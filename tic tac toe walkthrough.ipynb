{
 "cells": [
  {
   "cell_type": "markdown",
   "metadata": {},
   "source": [
    "#  Project 1: Tic Tac Toe\n",
    " "
   ]
  },
  {
   "cell_type": "markdown",
   "metadata": {},
   "source": [
    "**Step 1: .**"
   ]
  },
  {
   "cell_type": "code",
   "execution_count": 9,
   "metadata": {},
   "outputs": [],
   "source": [
    "from IPython.display import clear_output\n",
    "\n",
    "def display_board(board):\n",
    "    clear_output()\n",
    "    print('   |   |')\n",
    "    print(' ' + board[7] + ' | ' + board[8] + ' | ' + board[9])\n",
    "    print('   |   |')\n",
    "    print('-----------')\n",
    "    print('   |   |')\n",
    "    print(' ' + board[4] + ' | ' + board[5] + ' | ' + board[6])\n",
    "    print('   |   |')\n",
    "    print('-----------')\n",
    "    print('   |   |')\n",
    "    print(' ' + board[1] + ' | ' + board[2] + ' | ' + board[3])\n",
    "    print('   |   |')\n",
    "    "
   ]
  },
  {
   "cell_type": "markdown",
   "metadata": {},
   "source": [
    "**TEST Step 1 **"
   ]
  },
  {
   "cell_type": "code",
   "execution_count": 10,
   "metadata": {},
   "outputs": [
    {
     "name": "stdout",
     "output_type": "stream",
     "text": [
      "   |   |\n",
      " X | O | X\n",
      "   |   |\n",
      "-----------\n",
      "   |   |\n",
      " O | X | O\n",
      "   |   |\n",
      "-----------\n",
      "   |   |\n",
      " X | O | X\n",
      "   |   |\n"
     ]
    }
   ],
   "source": [
    "test_board = ['#','X','O','X','O','X','O','X','O','X']*10\n",
    "display_board(test_board)"
   ]
  },
  {
   "cell_type": "markdown",
   "metadata": {},
   "source": [
    "**Step 2:**"
   ]
  },
  {
   "cell_type": "code",
   "execution_count": 1,
   "metadata": {},
   "outputs": [],
   "source": [
    "def player_input():\n",
    "    marker = ''\n",
    "    while marker != 'X' and marker !='O':\n",
    "        marker = input(\"Player 1,choose X or O: \").upper()\n",
    "    Player1 = marker\n",
    "    if Player1 =='X':\n",
    "        Player2 ='O'\n",
    "    else:\n",
    "        Player2 = 'X'\n",
    "    return (Player1,Player2)\n",
    "        \n",
    "    "
   ]
  },
  {
   "cell_type": "markdown",
   "metadata": {},
   "source": [
    "**TEST Step 2:**  "
   ]
  },
  {
   "cell_type": "code",
   "execution_count": 2,
   "metadata": {},
   "outputs": [
    {
     "name": "stdout",
     "output_type": "stream",
     "text": [
      "Player 1,choose X or O: x\n"
     ]
    }
   ],
   "source": [
    "player1_marker,player2_marker = player_input()"
   ]
  },
  {
   "cell_type": "code",
   "execution_count": 4,
   "metadata": {},
   "outputs": [
    {
     "data": {
      "text/plain": [
       "'O'"
      ]
     },
     "execution_count": 4,
     "metadata": {},
     "output_type": "execute_result"
    }
   ],
   "source": [
    "player2_marker"
   ]
  },
  {
   "cell_type": "markdown",
   "metadata": {},
   "source": [
    "**Step 3: **"
   ]
  },
  {
   "cell_type": "code",
   "execution_count": 6,
   "metadata": {},
   "outputs": [],
   "source": [
    "def place_marker(board, marker, position):\n",
    "    board[position] = marker"
   ]
  },
  {
   "cell_type": "markdown",
   "metadata": {},
   "source": [
    "**TEST Step 3:** "
   ]
  },
  {
   "cell_type": "code",
   "execution_count": 11,
   "metadata": {
    "scrolled": true
   },
   "outputs": [
    {
     "name": "stdout",
     "output_type": "stream",
     "text": [
      "   |   |\n",
      " X | $ | X\n",
      "   |   |\n",
      "-----------\n",
      "   |   |\n",
      " O | X | O\n",
      "   |   |\n",
      "-----------\n",
      "   |   |\n",
      " X | O | X\n",
      "   |   |\n"
     ]
    }
   ],
   "source": [
    "place_marker(test_board,'$',8)\n",
    "display_board(test_board)"
   ]
  },
  {
   "cell_type": "markdown",
   "metadata": {},
   "source": [
    "**Step 4: **"
   ]
  },
  {
   "cell_type": "code",
   "execution_count": 12,
   "metadata": {},
   "outputs": [],
   "source": [
    "def win_check(board, mark):\n",
    "    \n",
    "    #win tic tac toe?\n",
    "    #all rows \n",
    "    return ((board[1] == mark and board[2] == mark and board[3] == mark) or \n",
    "    (board[4] == mark and board[5] == mark and  board[6] == mark) or\n",
    "    ( board[7] == mark and board[8]== mark and board[9] == mark ) or\n",
    "     (board[1] == mark and board[4]== mark and board[7] == mark)  or \n",
    "    (board[2] == mark and board[5] == mark and  board[8] == mark) or\n",
    "    ( board[3] == mark and board[6]== mark and board[9] == mark ) or\n",
    "      (board[1] == mark and board[5] == mark and  board[9] == mark) or\n",
    "    ( board[3] == mark and board[5]== mark and board[9] == mark ))\n",
    "    "
   ]
  },
  {
   "cell_type": "markdown",
   "metadata": {},
   "source": [
    "**TEST Step 4:**  "
   ]
  },
  {
   "cell_type": "code",
   "execution_count": 13,
   "metadata": {},
   "outputs": [
    {
     "name": "stdout",
     "output_type": "stream",
     "text": [
      "   |   |\n",
      " X | $ | X\n",
      "   |   |\n",
      "-----------\n",
      "   |   |\n",
      " O | X | O\n",
      "   |   |\n",
      "-----------\n",
      "   |   |\n",
      " X | O | X\n",
      "   |   |\n"
     ]
    },
    {
     "data": {
      "text/plain": [
       "True"
      ]
     },
     "execution_count": 13,
     "metadata": {},
     "output_type": "execute_result"
    }
   ],
   "source": [
    "display_board(test_board)\n",
    "win_check(test_board,'X')"
   ]
  },
  {
   "cell_type": "markdown",
   "metadata": {},
   "source": [
    "**Step 5: **"
   ]
  },
  {
   "cell_type": "code",
   "execution_count": 39,
   "metadata": {},
   "outputs": [],
   "source": [
    "import random\n",
    "\n",
    "def choose_first():\n",
    "    flip = random.randint(0,1)\n",
    "    if flip ==0:\n",
    "        return 'player 1'\n",
    "    else:\n",
    "        return 'player 2'"
   ]
  },
  {
   "cell_type": "markdown",
   "metadata": {},
   "source": [
    "**Step 6: *"
   ]
  },
  {
   "cell_type": "code",
   "execution_count": 40,
   "metadata": {},
   "outputs": [],
   "source": [
    "def space_check(board, position):\n",
    "    return board[position] ==' '"
   ]
  },
  {
   "cell_type": "markdown",
   "metadata": {},
   "source": [
    "**Step 7: **"
   ]
  },
  {
   "cell_type": "code",
   "execution_count": 41,
   "metadata": {},
   "outputs": [],
   "source": [
    "def full_board_check(board):\n",
    "    \n",
    "    for i in range(0,10):\n",
    "        if space_check(board,i):\n",
    "            return False\n",
    "    \n",
    "    return True"
   ]
  },
  {
   "cell_type": "markdown",
   "metadata": {},
   "source": [
    "**Step 8: **"
   ]
  },
  {
   "cell_type": "code",
   "execution_count": 42,
   "metadata": {},
   "outputs": [],
   "source": [
    "def player_choice(board):\n",
    "    \n",
    "    position = 0\n",
    "    while position not in [1,2,3,4,5,6,7,8,9] or not space_check(board,position):\n",
    "            position = int(input('choose a position : (1-9)'))\n",
    "            \n",
    "    return position"
   ]
  },
  {
   "cell_type": "markdown",
   "metadata": {},
   "source": [
    "**Step 9: **"
   ]
  },
  {
   "cell_type": "code",
   "execution_count": 43,
   "metadata": {},
   "outputs": [],
   "source": [
    "def replay():\n",
    "    \n",
    "    choice = input(\"play again ? Enter Yes or No\")\n",
    "    \n",
    "    return choice =='Yes'"
   ]
  },
  {
   "cell_type": "markdown",
   "metadata": {
    "collapsed": true
   },
   "source": [
    "**Step 10**"
   ]
  },
  {
   "cell_type": "code",
   "execution_count": 45,
   "metadata": {},
   "outputs": [
    {
     "name": "stdout",
     "output_type": "stream",
     "text": [
      "   |   |\n",
      " X |   | X\n",
      "   |   |\n",
      "-----------\n",
      "   |   |\n",
      " O | O | O\n",
      "   |   |\n",
      "-----------\n",
      "   |   |\n",
      " X |   | O\n",
      "   |   |\n",
      "Player 2 has won!!\n",
      "play again ? Enter Yes or Noy\n"
     ]
    }
   ],
   "source": [
    "print('Welcome to Tic Tac Toe!')\n",
    "\n",
    "#while True:\n",
    "while True:\n",
    "    # Set the game up here\n",
    "    the_board=[' ']*10\n",
    "    player1_marker,player2_marker = player_input()\n",
    "    \n",
    "    turn = choose_first()\n",
    "    print(turn +\"Will go first\")\n",
    "    \n",
    "    play_game = input('Ready to play? Y or N? ')\n",
    "    \n",
    "    if play_game =='Y':\n",
    "        game_on = True\n",
    "    else:\n",
    "        game_on = False\n",
    "    #game play \n",
    "    #while game_on:\n",
    "    while game_on:\n",
    "        if turn =='Player 1':\n",
    "            \n",
    "            display_board(the_board)\n",
    "            #choose a position\n",
    "            position = player_choice(the_board)\n",
    "            #place he marker on position\n",
    "            place_marker(the_board,player1_marker,position)\n",
    "            #check if the won\n",
    "            if win_check(the_board,player1_marker):\n",
    "                display_board(the_board)\n",
    "                print(\"Player 1 has won!!\")\n",
    "                game_on = False\n",
    "            else:\n",
    "                if full_board_check(the_board):\n",
    "                    display_board(the_board)\n",
    "                    print(\"TIE GAME!\")\n",
    "                    game_on = False\n",
    "                else:\n",
    "                    turn = 'Player 2'\n",
    "                #or check if there is a tie\n",
    "    \n",
    "        #Player 2 Turn\n",
    "        else: \n",
    "            display_board(the_board)\n",
    "            #choose a position\n",
    "            position = player_choice(the_board)\n",
    "            #place he marker on position\n",
    "            place_marker(the_board,player2_marker,position)\n",
    "            #check if the won\n",
    "            if win_check(the_board,player2_marker):\n",
    "                display_board(the_board)\n",
    "                print(\"Player 2 has won!!\")\n",
    "                game_on = False\n",
    "            else:\n",
    "                if full_board_check(the_board):\n",
    "                    display_board(the_board)\n",
    "                    print(\"TIE GAME!\")\n",
    "                    game_on = False\n",
    "                else:\n",
    "                    turn = 'Player 1'\n",
    "            \n",
    "        \n",
    "        \n",
    "        # Player2's turn.\n",
    "            \n",
    "            #pass\n",
    "\n",
    "    #if not replay():\n",
    "    if not replay():\n",
    "        break"
   ]
  },
  {
   "cell_type": "markdown",
   "metadata": {
    "collapsed": true
   },
   "source": [
    "## Good Job!"
   ]
  }
 ],
 "metadata": {
  "kernelspec": {
   "display_name": "Python 3",
   "language": "python",
   "name": "python3"
  },
  "language_info": {
   "codemirror_mode": {
    "name": "ipython",
    "version": 3
   },
   "file_extension": ".py",
   "mimetype": "text/x-python",
   "name": "python",
   "nbconvert_exporter": "python",
   "pygments_lexer": "ipython3",
   "version": "3.7.4"
  }
 },
 "nbformat": 4,
 "nbformat_minor": 1
}
